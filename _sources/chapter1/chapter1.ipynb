{
 "cells": [
  {
   "cell_type": "markdown",
   "id": "82b4ee24",
   "metadata": {},
   "source": [
    "# Chapter 1"
   ]
  }
 ],
 "metadata": {
  "language_info": {
   "name": "python"
  }
 },
 "nbformat": 4,
 "nbformat_minor": 5
}
