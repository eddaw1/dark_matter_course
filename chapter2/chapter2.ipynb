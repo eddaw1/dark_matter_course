{
 "cells": [
  {
   "cell_type": "markdown",
   "id": "1d018762",
   "metadata": {},
   "source": [
    "# Lecture 2 - Elastic scattering of WIMPs\n",
    "\n",
    "Because we don't know exactly what a WIMP is, we have to make some assumptions about properties we would expect all WIMPs to have in order to detect them. The most robust direct searches for WIMPs, which it turns out also have the greatest sensitivities, make the assumption that all WIMPs, no matter what their theoretical origin, will scatter elastically off a nucleus. By elastic scattering, we mean that before and after the scatter, the species involved are the same. So, in goes a WIMP and strikes a nucleus, and after the collision you are left with the same WIMP and the same species of nucleus in the final state. Have a think about why this corresponds to the meaning of elastic scattering in ordinary classical physics.\n",
    "\n",
    "An additional important assumption made by all direct searches is that WIMPs are all around us in the laboratory. This is true if the dark matter halo of our galaxy exists, and is sufficiently smooth so that there is a non-zero density everywhere within the halo. \n",
    "\n",
    "The underlying process is the interaction of a WIMP with a neutron or a proton. We have reasonable confidence that WIMPs will scatter off neutrons and protons because they are by definition weakly interacting, and the weak gauge bosons, $\\rm W^{\\pm}$ and $\\rm Z^0$ have couplings to nucleons. Of course, the nucleons are in turn composed of quarks and gluons, but at the low energies of WIMP elastic scattering it is protons and neutrons, or nucleons, that act as the fundamental particles inside the nucleus. It is at higher energies accessible only in accelerators where you start to see scattering off individual quarks.\n",
    "\n",
    "## Overall WIMP elastic scattering rate for an idealised detector\n",
    "\n",
    "Let us consider an idealised detector consisting of a cuboid of nuclei of some element, atomic number $A$. Importantly it is the nucleus that is actually scattered by the WIMP, rather than the individual nucleons. This will have consequences that will be discussed in the next lecture. The cuboid is of height $H$, width $W$ and length $L$, and contains a mass $M$ in kilograms of the detecting element. The number of nuclei available for WIMPs to scatter off, $N$, is\n",
    "\n",
    "$$\\begin{align}\n",
    "N&=\\frac{1000MN_A}{A},\n",
    "\\tag{2.1}\n",
    "\\end{align}$$\n",
    "\n",
    "where $N_A$ is Avogadro's number and the factor of $\\rm 1000$ occurs because $A$ is the number of grams in a mole of a substance. Now, let us consider WIMPs having some velocity $v$ incident normal to the end of this detector, height $H$ and width $W$. From the perspective of the incoming WIMP, there are $N$ target particles. The probability of elastic scattering off any one of the nuclei is encoded in the elastic scattering cross section for the nucleus. This is the classical area that the incoming WIMP has to strike in order for any elastic scatter to occur. This area is the same for each nucleus, as they are all physically identical. These cross sections are such tiny areas that the probability of the WIMP scattering twice is negligible. Let us use $\\sigma_{\\rm NUC}$ to denote this elastic scattering cross section off a nuclus. \n",
    "\n",
    "Since each nucleus is independent of the others, the total cross section for elastic scattering off any one of the nuclei is the number of nuclei times $\\sigma_{\\rm NUC}$. So, the total cross section for scattering in the detector, $\\sigma_{\\rm DET}$, is\n",
    "\n",
    "$$\\begin{align}\n",
    "\\sigma_{\\rm DET}&=N\\sigma_{\\rm NUC}=\\frac{1000MN_A\\sigma_{\\rm NUC}}{A}.\n",
    "\\tag{2.2}\n",
    "\\end{align}$$\n",
    "\n",
    "Since the nuclei are distributed roughly uniformly throughout the volume, the probability of our WIMP intersecting one of the cross sections required for scattering is given by the ratio of this cross section to the total area of the detector to the incoming WIMP, which is $WH$. Therefore the probability $p_{\\rm 1e}$ of a single WIMP undergoing an elastic scatter in the detector is\n",
    "\n",
    "$$\\begin{align}\n",
    "p_{\\rm 1e}&=\\frac{\\sigma_{\\rm DET}}{WH}=\\frac{1000MN_A\\sigma_{\\rm NUC}}{AWH}.\n",
    "\\tag{2.3}\n",
    "\\end{align}$$\n",
    "\n",
    "Now consider a population of WIMPs all having this same velocity $v$. Suppose that the number density of these WIMPs is $n$ per cubic metre. If they are all approaching the detector in the same direction, then the flux, the number of WIMPs crossing a unit area of detector surface into the detector per unit time, is given by $\\Phi=nv$. This is because the common velocity of the WIMPs is $v$ metres per second, so $v$ metres cubed passes into the detector in a second for each $\\rm m^2$ of the detector surface. However, the area of the end of the detector is $WH$ so that the number of WIMPs entering the detector per second is $\\Phi WH=nvWH$. Each of these WIMPs has a probability of $p_{\\rm 1e}$ of scattering. Hence the rate at which elastic scatters occurs between this population of WIMPs and the nuclei in the detector, $R_{\\rm TOT}(v)$, is\n",
    "\n",
    "$$\\begin{align}\n",
    "R_{\\rm TOT}(v)&=\\frac{1000MN_A\\sigma_{\\rm NUC}nv}{A}.\n",
    "\\end{align}$$"
   ]
  },
  {
   "cell_type": "markdown",
   "id": "05928b95",
   "metadata": {},
   "source": []
  }
 ],
 "metadata": {
  "language_info": {
   "name": "python"
  }
 },
 "nbformat": 4,
 "nbformat_minor": 5
}
